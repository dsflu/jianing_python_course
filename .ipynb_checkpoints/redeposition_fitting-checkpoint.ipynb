{
 "cells": [
  {
   "cell_type": "code",
   "execution_count": 43,
   "metadata": {
    "collapsed": true
   },
   "outputs": [],
   "source": [
    "import numpy as np\n",
    "import math\n",
    "import pandas as pd\n",
    "import matplotlib.pyplot as plt"
   ]
  },
  {
   "cell_type": "code",
   "execution_count": 210,
   "metadata": {
    "collapsed": true
   },
   "outputs": [],
   "source": [
    "def redeposition_fitting(t):\n",
    "    total_length = 6000\n",
    "    delta_x = 10\n",
    "    delta_t = 5\n",
    "    X0 = [20]*200 + [400]*200 + [20]*200\n",
    "    if t <= 0:\n",
    "        height = X0\n",
    "    else:\n",
    "        height = transform(redeposition_fitting(t-delta_t), delta_x, delta_t)\n",
    "    return height\n",
    "\n",
    "def transform(X, delta_x, delta_t):\n",
    "    X_new = []\n",
    "    for i in range(len(X)):\n",
    "        redeposition_sum = 0\n",
    "        j_list = list(range(len(X)))\n",
    "        j_list.remove(i)\n",
    "        for j in j_list:\n",
    "            if not_blocked(i, j, X, delta_x):\n",
    "                ra = float(math.sqrt(((i-j)*delta_x)**2 + (X[i]-X[j])**2))\n",
    "                redeposition_sum += (8/float(3*math.pi))*(delta_x*delta_t*0.22/ra)*((X[i]-X[j])/ra)**4\n",
    "        height_i = X[i] - 0.22*delta_t + redeposition_sum\n",
    "        X_new.append(height_i)\n",
    "    return X_new\n",
    "\n",
    "def not_blocked(i, j, X, delta_x):\n",
    "    not_block = True\n",
    "    min_i_j = min(i,j)\n",
    "    k = (X[i] - X[j])/float((i-j)*delta_x)\n",
    "    for m in range(min_i_j+1, min_i_j + abs(j-i)):\n",
    "        height_m = X[i] + k*(m-i)*delta_x\n",
    "        if X[m] >= height_m:\n",
    "            not_block = False\n",
    "            break\n",
    "#     if not_block:\n",
    "#         print(\"i:{},j: {} not blocked\".format(i, j))\n",
    "    return not_block\n",
    "        "
   ]
  },
  {
   "cell_type": "code",
   "execution_count": 211,
   "metadata": {
    "collapsed": false
   },
   "outputs": [
    {
     "data": {
      "image/png": "[encoded data removed]",
      "text/plain": [
       "<matplotlib.figure.Figure at 0x1190b63d0>"
      ]
     },
     "metadata": {},
     "output_type": "display_data"
    }
   ],
   "source": [
    "# a = pd.Series(redeposition_fitting(2)).reset_index(name='height')[195:205].plot(x='index', y='height',ylim=(0, 500), kind='scatter')\n",
    "df = pd.Series(redeposition_fitting(5))\n",
    "df[195:205].plot(ylim=(18.8, 19.0))\n",
    "a.plot()\n",
    "plt.show()"
   ]
  },
  {
   "cell_type": "code",
   "execution_count": 207,
   "metadata": {
    "collapsed": false
   },
   "outputs": [],
   "source": [
    "# refinement\n",
    "def redeposition_fitting(t):\n",
    "    total_length = 6000\n",
    "    delta_x = 10\n",
    "    delta_t = 1\n",
    "    X0 = [(i, 20) for i in range(200)] + [(i, 400) for i in range(200, 400)] + [(i, 20) for i in range(400, 600)]\n",
    "    X_all = []\n",
    "    if t <= 0:\n",
    "        height = X0\n",
    "    else:\n",
    "        height_previous, X_all = redeposition_fitting(t-delta_t)\n",
    "        height = transform(height_previous, delta_x, delta_t)\n",
    "    X_all.append({'t={}'.format(t): height})\n",
    "    return height, X_all\n",
    "\n",
    "def transform(X, delta_x, delta_t):\n",
    "    X_new = []\n",
    "    for i in range(len(X)):\n",
    "        redeposition_sum = 0\n",
    "        j_list = list(range(len(X)))\n",
    "        j_list.remove(i)\n",
    "        for j in j_list:\n",
    "            if not_blocked(i, j, X, delta_x):\n",
    "                ra = float(math.sqrt(((X[i][0]-X[j][0])*delta_x)**2 + (X[i][1]-X[j][1])**2))\n",
    "                redeposition_sum += (8/float(3*math.pi))*(delta_x*delta_t*0.22/ra)*((X[i][1]-X[j][1])/ra)**4\n",
    "        height_i = X[i][1] - 0.22*delta_t + redeposition_sum\n",
    "        X_new.append((X[i][0], height_i))\n",
    "    return X_new\n",
    "\n",
    "def not_blocked(i, j, X, delta_x):\n",
    "    not_block = True\n",
    "    min_i_j = min(X[i][0], X[j][0])\n",
    "    k = (X[i][1] - X[j][1])/float((X[i][0]-X[j][0])*delta_x)\n",
    "    for m in range(min_i_j+1, min_i_j + abs(X[j][0]-X[i][0])):\n",
    "        height_m = X[i][1] + k*(m-X[i][0])*delta_x\n",
    "        if X[m][1] >= height_m:\n",
    "            not_block = False\n",
    "            break\n",
    "    return not_block\n",
    "        "
   ]
  },
  {
   "cell_type": "code",
   "execution_count": 208,
   "metadata": {
    "collapsed": false
   },
   "outputs": [],
   "source": [
    "height, X_all = redeposition_fitting(2)"
   ]
  },
  {
   "cell_type": "code",
   "execution_count": 209,
   "metadata": {
    "collapsed": false
   },
   "outputs": [
    {
     "data": {
      "image/png": "[encoded data removed]",
      "text/plain": [
       "<matplotlib.figure.Figure at 0x11892a5d0>"
      ]
     },
     "metadata": {},
     "output_type": "display_data"
    }
   ],
   "source": [
    "# a = pd.Series(redeposition_fitting(2)).reset_index(name='height')[195:205].plot(x='index', y='height',ylim=(0, 500), kind='scatter')\n",
    "height, X_all = redeposition_fitting(2)\n",
    "df = pd.Series([i[1] for i in height])\n",
    "df[195:205].plot(ylim=(19.5, 19.6))\n",
    "df.plot()\n",
    "plt.show()"
   ]
  },
  {
   "cell_type": "code",
   "execution_count": null,
   "metadata": {
    "collapsed": false
   },
   "outputs": [],
   "source": []
  },
  {
   "cell_type": "code",
   "execution_count": null,
   "metadata": {
    "collapsed": true
   },
   "outputs": [],
   "source": []
  }
 ],
 "metadata": {
  "kernelspec": {
   "display_name": "Python 2",
   "language": "python",
   "name": "python2"
  },
  "language_info": {
   "codemirror_mode": {
    "name": "ipython",
    "version": 2
   },
   "file_extension": ".py",
   "mimetype": "text/x-python",
   "name": "python",
   "nbconvert_exporter": "python",
   "pygments_lexer": "ipython2",
   "version": "2.7.13"
  }
 },
 "nbformat": 4,
 "nbformat_minor": 2
}
