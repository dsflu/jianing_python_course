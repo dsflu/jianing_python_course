{
 "cells": [
  {
   "cell_type": "code",
   "execution_count": 89,
   "metadata": {},
   "outputs": [],
   "source": [
    "from scipy.optimize import basinhopping\n",
    "from math import sin, cos, pi\n",
    "import pandas as pd"
   ]
  },
  {
   "cell_type": "code",
   "execution_count": 58,
   "metadata": {},
   "outputs": [],
   "source": [
    "def func(x):\n",
    "    Keff1=0.38*10**6\n",
    "    Keff2=0.38*10**6   \n",
    "    t=10**(-9)\n",
    "    Jrkky= 1.005e-4\n",
    "    Jex=0.1E-4\n",
    "    Ms=1400*10**3\n",
    "    Extfield=150\n",
    "    y = Keff1*t*(sin(x[0]))**2+Keff2*t*(sin(x[1]))**2+Jrkky*cos(x[1]-x[0])-Extfield/1000*(Ms*t*cos(x[2]-x[0])+Ms*t*cos(x[2]-x[1]))\n",
    "    return y"
   ]
  },
  {
   "cell_type": "code",
   "execution_count": 82,
   "metadata": {},
   "outputs": [
    {
     "name": "stdout",
     "output_type": "stream",
     "text": [
      "[0. 0. 0.]\n",
      "-0.00031949999999999996\n"
     ]
    }
   ],
   "source": [
    "x0 = [0.0, pi, 0.0]\n",
    "xmin = [0., 0., 0.]\n",
    "xmax = [pi, pi, pi]\n",
    "bounds = [(low, high) for low, high in zip(xmin, xmax)]\n",
    "minimizer_kwargs = dict(method=\"L-BFGS-B\", bounds=bounds)\n",
    "# minimizer_kwargs = dict(method=\"BFGS\")\n",
    "ret = basinhopping(func, x0, minimizer_kwargs=minimizer_kwargs, niter=10000)\n",
    "print(ret.x)\n",
    "print(ret.fun)"
   ]
  },
  {
   "cell_type": "code",
   "execution_count": 111,
   "metadata": {},
   "outputs": [
    {
     "name": "stdout",
     "output_type": "stream",
     "text": [
      "100 done\n",
      "200 done\n",
      "300 done\n",
      "400 done\n",
      "500 done\n"
     ]
    }
   ],
   "source": [
    "# plot the figure \n",
    "Keff1=0.38*10**6\n",
    "Keff2=0.38*10**6   \n",
    "t=10**(-9)\n",
    "Jrkky= 1.005e-4\n",
    "Jex=0.1E-4\n",
    "Ms=1400*10**3\n",
    "\n",
    "x0 = [0.0, pi, 0.0]\n",
    "xmin = [0., 0., 0.]\n",
    "xmax = [pi, pi, pi]\n",
    "bounds = [(low, high) for low, high in zip(xmin, xmax)]\n",
    "minimizer_kwargs = dict(method=\"L-BFGS-B\", bounds=bounds)\n",
    "\n",
    "RET = []\n",
    "Extfield_list = list(range(0,500))\n",
    "count = 0\n",
    "for Extfield in Extfield_list:\n",
    "    func = lambda x: Keff1*t*(sin(x[0]))**2+Keff2*t*(sin(x[1]))**2+Jrkky*cos(x[1]-x[0])-Extfield/1000*(Ms*t*cos(x[2]-x[0])+Ms*t*cos(x[2]-x[1]))\n",
    "    ret = basinhopping(func, x0, minimizer_kwargs=minimizer_kwargs, niter=1000)\n",
    "    RET.append(ret.fun)\n",
    "    count += 1\n",
    "    if count % 100 == 0:\n",
    "        print(\"{} done\".format(count))"
   ]
  },
  {
   "cell_type": "code",
   "execution_count": 112,
   "metadata": {},
   "outputs": [],
   "source": [
    "df = pd.DataFrame({\"Extfield\": Extfield_list, \"local_min\": RET})"
   ]
  },
  {
   "cell_type": "code",
   "execution_count": 113,
   "metadata": {},
   "outputs": [
    {
     "data": {
      "text/plain": [
       "<matplotlib.axes._subplots.AxesSubplot at 0x12b53dba8>"
      ]
     },
     "execution_count": 113,
     "metadata": {},
     "output_type": "execute_result"
    },
    {
     "data": {
      "image/png": "[encoded data removed]",
      "text/plain": [
       "<Figure size 432x288 with 1 Axes>"
      ]
     },
     "metadata": {
      "needs_background": "light"
     },
     "output_type": "display_data"
    }
   ],
   "source": [
    "df[:100].plot(kind='line', x='Extfield', y='local_min')"
   ]
  },
  {
   "cell_type": "code",
   "execution_count": null,
   "metadata": {},
   "outputs": [],
   "source": []
  }
 ],
 "metadata": {
  "kernelspec": {
   "display_name": "Python 3",
   "language": "python",
   "name": "python3"
  },
  "language_info": {
   "codemirror_mode": {
    "name": "ipython",
    "version": 3
   },
   "file_extension": ".py",
   "mimetype": "text/x-python",
   "name": "python",
   "nbconvert_exporter": "python",
   "pygments_lexer": "ipython3",
   "version": "3.7.3"
  }
 },
 "nbformat": 4,
 "nbformat_minor": 4
}
