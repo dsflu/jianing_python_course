{
 "cells": [
  {
   "cell_type": "markdown",
   "metadata": {},
   "source": [
    "## Outline\n",
    "1. install python3 + usage four ways\n",
    "2. pip\n",
    "3. ~~virtual env~~\n",
    "4. ipython notebook\n",
    "5. python basics"
   ]
  },
  {
   "cell_type": "markdown",
   "metadata": {},
   "source": [
    "### install python3\n",
    "1. brew install python3\n",
    "2. ~~anaconda~~"
   ]
  },
  {
   "cell_type": "markdown",
   "metadata": {},
   "source": [
    "### 常用命令行指令"
   ]
  },
  {
   "cell_type": "markdown",
   "metadata": {},
   "source": [
    "* alias python=python3 别名\n",
    "* ls 列出当前文件夹文件\n",
    "* cd .. 进入上个目录\n",
    "* cd ~ 进入根目录\n",
    "* cat 查看文件\n",
    "* nano 编辑文件\n",
    "\n",
    "* brew list 查看安装的程序\n",
    "* brew search\n",
    "* brew install\n",
    "* brew uninstall"
   ]
  },
  {
   "cell_type": "markdown",
   "metadata": {},
   "source": [
    "###  usage\n",
    "alias python = python3 (add to ~/.bashrc or ~/.zshrc)\n",
    "\n",
    "- [ ] command line -> python3 / python\n",
    "- [ ] write .py scripts -> python3 xxx.py (项目开发)\n",
    "- [ ] command line -> ipython \n",
    "- [x] ~~ipython notebook~~ / jupyter notebook （日常数据处理、分析）"
   ]
  },
  {
   "cell_type": "markdown",
   "metadata": {},
   "source": [
    "### pip"
   ]
  },
  {
   "cell_type": "markdown",
   "metadata": {},
   "source": [
    "* pip \n",
    "* library control/reference (similar to brew in mac)\n",
    "* 自己不想写，或者太复杂写不了（自己写也浪费时间），或者别人的代码更高效 -> 调用别人写好的包\n",
    "* 别人会把代码上传到 pip (托管、维护)，供你下载使用\n",
    "* pip search\n",
    "* pip install\n",
    "* pip list\n",
    "* pip uninstall\n",
    "* 写代码前可以先 google 一下别人有没有写过这个功能 -> 快速调用，节省时间"
   ]
  },
  {
   "cell_type": "markdown",
   "metadata": {},
   "source": [
    "pip 常用命令\n",
    "```python\n",
    "pip list\n",
    "pip freeze > requirements.txt\n",
    "pip search\n",
    "pip install\n",
    "pip install -r requirements.txt\n",
    "pip uninstall\n",
    "```"
   ]
  },
  {
   "cell_type": "markdown",
   "metadata": {},
   "source": [
    "### ~~virtual env~~\n",
    "~~mkvirtualenv~~\n",
    "~~rmvirtualenv~~\n",
    "\n",
    "有需要再教"
   ]
  },
  {
   "cell_type": "markdown",
   "metadata": {},
   "source": [
    "### basics 代码基础结构"
   ]
  },
  {
   "cell_type": "markdown",
   "metadata": {},
   "source": [
    "结构\n",
    "#### 1. wrting scripts (python3 xxx.py)\n",
    "\n",
    "within xxx.py\n",
    "\n",
    "```python\n",
    "# 调用包\n",
    "import .... \n",
    "from xxx import xxx\n",
    "from xxx import *\n",
    "\n",
    "# 设置 log 格式\n",
    "logFormat = \"%(asctime)s [%(threadName)s][%(levelname)-5.5s]  %(message)s\"\n",
    "logging.basicConfig(level=logging.INFO, format=logFormat)\n",
    "log = logging.getLogger(__file__)\n",
    "\n",
    "# 定义方程\n",
    "def func1():\n",
    "    \"\"\"\n",
    "    文档说明功能\n",
    "    输入\n",
    "    输出\n",
    "    \"\"\"\n",
    "    xxxxx\n",
    "    \n",
    "    return xxx\n",
    "\n",
    "# scripts 主入口、开始运行的位置（可无）\n",
    "if name = \"__main__\":\n",
    "    # 定义输入（可无）\n",
    "    parser = argparse.ArgumentParser(description='Evaluate the val/test on restricted positive data')\n",
    "    parser.add_argument('--data_path', dest='data_path', help='data folder', required=True, default='')\n",
    "\n",
    "    args = parser.parse_args()\n",
    "    \n",
    "    # 调用方程\n",
    "    func1()\n",
    "    \n",
    "    # log 输出\n",
    "    log.info(\"xxxx\")\n",
    "    \n",
    "    # 或者 print 输出\n",
    "    print()\n",
    "```\n",
    "\n",
    "\n",
    "   \n",
    "    \n",
    "#### 2. ipython notebook\n",
    "\n",
    "```python\n",
    "# 调用包\n",
    "import ....\n",
    "\n",
    "# 定义方程\n",
    "def ... (可有可无)（看是否调用频繁）\n",
    "\n",
    "# 处理步骤\n",
    "x= ...\n",
    "for ...\n",
    "plot ...\n",
    "```\n"
   ]
  },
  {
   "cell_type": "code",
   "execution_count": null,
   "metadata": {},
   "outputs": [],
   "source": []
  }
 ],
 "metadata": {
  "kernelspec": {
   "display_name": "Python 3",
   "language": "python",
   "name": "python3"
  },
  "language_info": {
   "codemirror_mode": {
    "name": "ipython",
    "version": 3
   },
   "file_extension": ".py",
   "mimetype": "text/x-python",
   "name": "python",
   "nbconvert_exporter": "python",
   "pygments_lexer": "ipython3",
   "version": "3.6.6"
  }
 },
 "nbformat": 4,
 "nbformat_minor": 2
}
